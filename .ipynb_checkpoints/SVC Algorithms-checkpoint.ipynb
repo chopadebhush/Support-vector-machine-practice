{
 "cells": [
  {
   "cell_type": "code",
   "execution_count": 1,
   "id": "8c11c067-3eee-49e0-8f7e-575a90cf19e2",
   "metadata": {},
   "outputs": [],
   "source": [
    "import pandas as pd\n",
    "import numpy as np\n",
    "import matplotlib.pyplot as plt\n",
    "import seaborn as sns\n",
    "import warnings \n",
    "warnings.filterwarnings(\"ignore\")"
   ]
  },
  {
   "cell_type": "code",
   "execution_count": 2,
   "id": "73b71675-37ef-413e-a910-b73ff1f52fb7",
   "metadata": {},
   "outputs": [],
   "source": [
    "from sklearn.datasets import make_classification\n",
    "X,y =make_classification(random_state=42)"
   ]
  },
  {
   "cell_type": "code",
   "execution_count": 3,
   "id": "aaccc0a9-3ffc-4529-8ac9-9b68cb2f8072",
   "metadata": {},
   "outputs": [
    {
     "data": {
      "text/plain": [
       "array([[-2.02514259,  0.0291022 , -0.47494531, ..., -0.33450124,\n",
       "         0.86575519, -1.20029641],\n",
       "       [ 1.61371127,  0.65992405, -0.15005559, ...,  1.37570681,\n",
       "         0.70117274, -0.2975635 ],\n",
       "       [ 0.16645221,  0.95057302,  1.42050425, ...,  1.18901653,\n",
       "        -0.55547712, -0.63738713],\n",
       "       ...,\n",
       "       [-0.03955515, -1.60499282,  0.22213377, ..., -0.30917212,\n",
       "        -0.46227529, -0.43449623],\n",
       "       [ 1.08589557,  1.2031659 , -0.6095122 , ..., -0.3052247 ,\n",
       "        -1.31183623, -1.06511366],\n",
       "       [-0.00607091,  1.30857636, -0.17495976, ...,  0.99204235,\n",
       "         0.32169781, -0.66809045]])"
      ]
     },
     "execution_count": 3,
     "metadata": {},
     "output_type": "execute_result"
    }
   ],
   "source": [
    "X"
   ]
  },
  {
   "cell_type": "code",
   "execution_count": 4,
   "id": "ecf44d36-ca92-4a9f-99c4-39fbf4b34cbe",
   "metadata": {},
   "outputs": [
    {
     "data": {
      "text/plain": [
       "array([0, 0, 1, 1, 0, 0, 0, 1, 0, 1, 1, 0, 0, 0, 1, 1, 1, 0, 0, 1, 1, 0,\n",
       "       0, 0, 0, 1, 1, 0, 1, 0, 0, 0, 0, 0, 0, 1, 0, 0, 1, 1, 1, 0, 1, 0,\n",
       "       0, 1, 1, 0, 0, 1, 1, 1, 0, 1, 0, 0, 1, 1, 0, 1, 1, 1, 1, 1, 0, 1,\n",
       "       0, 0, 1, 0, 1, 0, 1, 0, 1, 1, 1, 0, 0, 0, 1, 0, 1, 0, 1, 1, 1, 1,\n",
       "       1, 0, 0, 1, 0, 1, 1, 0, 1, 1, 0, 0])"
      ]
     },
     "execution_count": 4,
     "metadata": {},
     "output_type": "execute_result"
    }
   ],
   "source": [
    "y"
   ]
  },
  {
   "cell_type": "code",
   "execution_count": 5,
   "id": "1b6cb809-71b3-49e9-a36d-21efba82ce4c",
   "metadata": {},
   "outputs": [],
   "source": [
    "from sklearn.model_selection import train_test_split\n",
    "X_train ,X_test ,y_train ,y_test =train_test_split(X ,y,random_state=12)"
   ]
  },
  {
   "cell_type": "code",
   "execution_count": 6,
   "id": "587fa91c-f33b-49d2-8b17-1cacac1ccf93",
   "metadata": {},
   "outputs": [
    {
     "data": {
      "text/plain": [
       "array([[ 1.19504663, -1.07525068,  0.44001445, ..., -2.19880596,\n",
       "         1.88115707, -1.4480139 ],\n",
       "       [ 0.20292302, -0.83311649, -0.17694723, ...,  2.01020454,\n",
       "         0.33445679,  0.65854427],\n",
       "       [ 1.05842449,  1.69607038, -1.70338244, ..., -1.38010146,\n",
       "         0.07409478,  1.62861555],\n",
       "       ...,\n",
       "       [ 1.96472513,  0.67287309, -0.2750517 , ..., -0.57581824,\n",
       "         0.75750771, -0.53050115],\n",
       "       [ 0.07736831,  1.17059844, -1.39856757, ...,  1.90941664,\n",
       "        -1.38279973,  0.92617755],\n",
       "       [ 1.51344974, -1.14052601,  1.88458631, ...,  1.08874862,\n",
       "        -0.95943924, -0.37220678]])"
      ]
     },
     "execution_count": 6,
     "metadata": {},
     "output_type": "execute_result"
    }
   ],
   "source": [
    "X_train"
   ]
  },
  {
   "cell_type": "code",
   "execution_count": 7,
   "id": "f73756da-6ace-4e87-82d4-e073cd232158",
   "metadata": {},
   "outputs": [
    {
     "data": {
      "text/plain": [
       "array([[ 0.68195297,  1.85571007,  1.15811087,  0.59515703, -0.81822068,\n",
       "        -1.57127256,  0.62834551,  0.79166269, -0.31026676,  0.32416635,\n",
       "        -1.65830375,  1.30547881,  0.62411982, -0.13014305,  0.02100384,\n",
       "        -0.81296687,  0.09699596, -1.21418861,  2.09238728, -1.00601738],\n",
       "       [-0.64927755,  0.40238353,  1.22766899, -1.55589565,  0.33088023,\n",
       "         1.06173727,  0.41901901, -1.20964102, -1.22394027,  0.03408347,\n",
       "        -0.91916686, -0.58168091,  1.67257239, -0.76997323, -1.01475673,\n",
       "         1.05688647,  0.23378591,  0.37405657,  0.83352896, -1.99373564],\n",
       "       [ 0.49403019,  0.63067073,  1.1487657 ,  1.17272902,  0.54360015,\n",
       "         0.89075877, -1.11966989, -1.73971378,  0.26067377, -0.55030515,\n",
       "        -1.13207427, -0.6255627 , -0.36244094, -0.67162337,  0.39580353,\n",
       "         0.97650004, -0.02555407, -2.84854262, -0.37061433,  0.77169871],\n",
       "       [ 0.84064355,  0.37531604, -0.96697614, -2.42387933, -1.58390282,\n",
       "        -1.79532002, -1.15836469, -0.04771136, -0.65262398, -0.44618343,\n",
       "         0.25415746,  0.12810441, -0.00360254, -1.88954073, -0.68105166,\n",
       "        -1.46361184, -0.45230632,  0.42545756,  0.76041466,  0.78580016],\n",
       "       [-0.26888869, -0.70426956, -0.03275327, -0.02412509,  0.19808476,\n",
       "        -0.71352532,  0.10643023, -0.54342477, -1.10652591,  2.5733598 ,\n",
       "         1.15199146,  1.84895609, -0.71284578,  0.05921843,  1.12656503,\n",
       "        -0.84321213,  0.01392929, -0.54685894, -0.14436041, -0.57366201],\n",
       "       [ 0.96387912,  1.3939833 ,  0.56898308,  2.57970934, -0.80367457,\n",
       "         0.25995672, -0.20358036,  1.62839662,  2.210523  , -0.55749179,\n",
       "        -1.82037691,  0.04381147, -0.37912774, -1.36980298, -0.147002  ,\n",
       "         0.65574086, -0.08828205, -0.55358824,  1.63911681,  1.67770081],\n",
       "       [ 2.1221562 ,  1.39175475, -3.24126734, -0.70766947,  0.44381943,\n",
       "        -1.26898369, -1.24778318, -1.02438764,  1.03246526, -1.51936997,\n",
       "        -1.20757158, -1.26088395, -0.25256815, -0.48423407,  0.91786195,\n",
       "        -0.68933585,  1.26691115, -0.05952536,  0.77463405, -0.92693047],\n",
       "       [-1.06239353, -2.68317954,  0.33848384,  2.58956364,  0.57963317,\n",
       "         1.94087643,  1.31759754, -0.29540141,  0.4283071 , -0.18714427,\n",
       "         2.52983424, -0.07964139,  0.16846098,  0.98573   ,  0.4523718 ,\n",
       "         0.88439534,  1.18738605, -0.35316629,  0.32579632,  0.1943843 ],\n",
       "       [ 2.40341559,  0.40910605,  0.30263547,  1.18703031,  0.63873022,\n",
       "         1.10009583,  0.32876241, -0.75427585, -0.0576188 ,  0.20109905,\n",
       "        -0.94275087,  0.15041891, -0.06413835,  1.0506544 ,  0.364961  ,\n",
       "         1.09267506,  1.10552593, -1.14634539, -1.14300491,  1.63343153],\n",
       "       [-0.9354387 ,  0.15985512,  0.7999419 ,  1.83818368, -0.22346598,\n",
       "        -0.11708689, -1.06780292, -1.61631061,  1.08598212, -0.53596345,\n",
       "        -0.15013844,  0.73881048, -1.05368242,  0.8080578 ,  0.61536748,\n",
       "        -0.05396947,  0.36728731, -0.30317978, -0.3493168 , -0.01941961],\n",
       "       [ 0.06447441, -0.23938468,  0.14866746,  0.59992873,  1.53075083,\n",
       "         1.56931739, -0.30246969, -0.33708597, -1.97546657, -0.93933539,\n",
       "        -0.3313761 , -0.07049878, -0.61340266, -0.14408756,  0.48650164,\n",
       "         1.306542  , -1.20969474,  1.49072614,  1.21876185, -0.21344287],\n",
       "       [ 0.69014399,  2.35790248,  2.15318246, -0.77300978,  0.02451017,\n",
       "        -2.24181979,  0.18334201, -0.76734756, -0.40122047,  0.22409248,\n",
       "        -2.00918545, -0.10876015,  0.87232064,  0.0125924 ,  0.40171172,\n",
       "        -1.24868955,  0.0976761 ,  0.95927083,  0.49799829,  1.45114361],\n",
       "       [ 0.88310978, -1.76254901,  0.91922893, -0.75179105, -0.4263576 ,\n",
       "         1.4991983 ,  1.08004807, -0.66814409, -0.0778372 , -0.18047991,\n",
       "         1.57233676, -0.29181127,  1.87329778,  3.19310757, -1.56319081,\n",
       "         0.77813969,  0.29875291, -1.43827798,  1.14844571,  0.11327041],\n",
       "       [-0.52272302, -0.56156012,  0.21101747,  0.60600995, -1.28042935,\n",
       "        -0.98021491,  0.39913611, -0.09671311,  1.04900923, -0.70434369,\n",
       "         1.08266027,  0.92402702, -0.54491909, -1.4084613 , -0.18490214,\n",
       "        -1.03398089, -1.55662917,  1.69645637,  1.75479418, -2.08192941],\n",
       "       [ 1.14927333,  0.12037048,  0.62180996,  1.81244856,  0.70775194,\n",
       "        -1.50077611, -0.24751864, -1.57022472, -0.70317643, -0.03498849,\n",
       "         0.4505902 ,  2.56008454, -0.72713718,  1.77080064, -0.0960599 ,\n",
       "        -1.2827436 , -0.62696706,  0.97255445, -0.56246678,  0.63240774],\n",
       "       [-0.62264936, -1.44723231, -1.50472037, -0.0370368 , -0.42930222,\n",
       "         1.25896077, -1.4575515 ,  0.76005596,  0.19460746, -0.74247059,\n",
       "         1.2798899 ,  0.04360245,  0.08243975, -1.32002251,  1.69505104,\n",
       "         0.6635226 , -0.61176909, -0.08310557, -0.69242098, -1.40631746],\n",
       "       [-0.4677012 , -1.22823431,  1.50075979, -1.28299222,  0.99626682,\n",
       "         2.38869353, -0.3492577 ,  0.85022174,  0.34650388, -0.04692058,\n",
       "         0.55942643, -1.29468148, -0.34865213,  0.47704083,  1.16082679,\n",
       "         1.7240021 ,  0.07682189, -0.42811516, -0.49375658, -1.5565819 ],\n",
       "       [ 0.38193545,  0.254643  ,  0.73264008, -0.19634985, -0.07160126,\n",
       "         1.18739045, -1.99820068, -0.08071658,  0.43004165,  1.03028345,\n",
       "        -0.78736523, -0.32163505,  0.07863519,  0.23878916,  2.07674798,\n",
       "         1.12210055, -0.25904215,  0.05194589, -0.03722224,  0.72762954],\n",
       "       [ 1.31711507, -0.88541844, -0.2389321 , -0.02286806, -0.99930223,\n",
       "         1.02703224, -0.92241018, -0.36682441, -0.11806853, -2.1218549 ,\n",
       "         0.68057323, -1.00654257, -0.39175815, -0.60782199,  1.13987856,\n",
       "         0.63174629,  1.29699455,  0.54673357, -0.50477492,  0.84062003],\n",
       "       [-0.24869113, -0.9809438 , -0.52861668,  1.17347386,  0.18102156,\n",
       "         0.68811892,  0.02127158,  0.58636402,  1.60734558,  0.49097495,\n",
       "         0.93343952, -0.16712171,  1.23828307,  0.73487779,  0.28257995,\n",
       "         0.30446853,  0.66288127, -0.65135689, -1.29683195,  0.39968795],\n",
       "       [ 0.83569211,  0.58846525,  0.08658979, -0.79689526,  0.57707213,\n",
       "        -0.3751207 ,  0.25442084, -0.15567724, -1.12970685,  0.52980418,\n",
       "        -0.57500215,  1.00629281,  1.16778206,  1.44156862, -0.57689187,\n",
       "        -0.14951801, -2.4716445 , -0.60398519, -0.20304539,  0.37114587],\n",
       "       [-1.71313453,  1.74355119, -1.06762043, -0.59937502,  0.0052437 ,\n",
       "        -1.51042899,  0.51443883, -0.14237949,  1.35387237, -0.11453985,\n",
       "        -1.54446032,  1.17944012,  0.12029563,  1.23781631, -0.46917565,\n",
       "        -0.79383636, -1.59442766,  0.62284993,  0.04698059, -0.45006547],\n",
       "       [ 1.06667469, -0.47936995,  0.02874482,  0.14671369,  1.20650897,\n",
       "        -1.08324727,  0.04643655,  1.27845186,  1.16929559,  1.38215899,\n",
       "         1.02255619,  0.82048218,  0.19109907,  0.64870989,  0.50727403,\n",
       "        -1.09939128, -0.16711808, -0.39333881, -0.81693567,  0.36867331],\n",
       "       [ 1.59450506,  0.53104737,  0.98176549, -1.32308979,  1.64201516,\n",
       "         0.94800532,  2.29094257, -0.32483138, -0.84696135, -0.99139235,\n",
       "        -1.03223274, -1.09627509, -2.49940571, -2.15339011, -1.44005088,\n",
       "         0.99630897, -0.63896175,  2.25243581,  1.00981709, -0.68815035],\n",
       "       [-1.22212781, -1.03371682,  0.59310126,  0.44426331, -0.36096617,\n",
       "        -0.48949935, -1.25111358, -0.30954644,  0.71299843, -0.2403254 ,\n",
       "         1.46830827, -0.52452027,  0.32613302, -0.37482081,  0.48937456,\n",
       "        -0.74717988,  0.71095997,  0.61593561,  1.1593298 , -1.08106333]])"
      ]
     },
     "execution_count": 7,
     "metadata": {},
     "output_type": "execute_result"
    }
   ],
   "source": [
    "X_test"
   ]
  },
  {
   "cell_type": "code",
   "execution_count": 8,
   "id": "f9e13004-e578-4579-8c48-83a5fb42a938",
   "metadata": {},
   "outputs": [
    {
     "data": {
      "text/html": [
       "<style>#sk-container-id-1 {color: black;background-color: white;}#sk-container-id-1 pre{padding: 0;}#sk-container-id-1 div.sk-toggleable {background-color: white;}#sk-container-id-1 label.sk-toggleable__label {cursor: pointer;display: block;width: 100%;margin-bottom: 0;padding: 0.3em;box-sizing: border-box;text-align: center;}#sk-container-id-1 label.sk-toggleable__label-arrow:before {content: \"▸\";float: left;margin-right: 0.25em;color: #696969;}#sk-container-id-1 label.sk-toggleable__label-arrow:hover:before {color: black;}#sk-container-id-1 div.sk-estimator:hover label.sk-toggleable__label-arrow:before {color: black;}#sk-container-id-1 div.sk-toggleable__content {max-height: 0;max-width: 0;overflow: hidden;text-align: left;background-color: #f0f8ff;}#sk-container-id-1 div.sk-toggleable__content pre {margin: 0.2em;color: black;border-radius: 0.25em;background-color: #f0f8ff;}#sk-container-id-1 input.sk-toggleable__control:checked~div.sk-toggleable__content {max-height: 200px;max-width: 100%;overflow: auto;}#sk-container-id-1 input.sk-toggleable__control:checked~label.sk-toggleable__label-arrow:before {content: \"▾\";}#sk-container-id-1 div.sk-estimator input.sk-toggleable__control:checked~label.sk-toggleable__label {background-color: #d4ebff;}#sk-container-id-1 div.sk-label input.sk-toggleable__control:checked~label.sk-toggleable__label {background-color: #d4ebff;}#sk-container-id-1 input.sk-hidden--visually {border: 0;clip: rect(1px 1px 1px 1px);clip: rect(1px, 1px, 1px, 1px);height: 1px;margin: -1px;overflow: hidden;padding: 0;position: absolute;width: 1px;}#sk-container-id-1 div.sk-estimator {font-family: monospace;background-color: #f0f8ff;border: 1px dotted black;border-radius: 0.25em;box-sizing: border-box;margin-bottom: 0.5em;}#sk-container-id-1 div.sk-estimator:hover {background-color: #d4ebff;}#sk-container-id-1 div.sk-parallel-item::after {content: \"\";width: 100%;border-bottom: 1px solid gray;flex-grow: 1;}#sk-container-id-1 div.sk-label:hover label.sk-toggleable__label {background-color: #d4ebff;}#sk-container-id-1 div.sk-serial::before {content: \"\";position: absolute;border-left: 1px solid gray;box-sizing: border-box;top: 0;bottom: 0;left: 50%;z-index: 0;}#sk-container-id-1 div.sk-serial {display: flex;flex-direction: column;align-items: center;background-color: white;padding-right: 0.2em;padding-left: 0.2em;position: relative;}#sk-container-id-1 div.sk-item {position: relative;z-index: 1;}#sk-container-id-1 div.sk-parallel {display: flex;align-items: stretch;justify-content: center;background-color: white;position: relative;}#sk-container-id-1 div.sk-item::before, #sk-container-id-1 div.sk-parallel-item::before {content: \"\";position: absolute;border-left: 1px solid gray;box-sizing: border-box;top: 0;bottom: 0;left: 50%;z-index: -1;}#sk-container-id-1 div.sk-parallel-item {display: flex;flex-direction: column;z-index: 1;position: relative;background-color: white;}#sk-container-id-1 div.sk-parallel-item:first-child::after {align-self: flex-end;width: 50%;}#sk-container-id-1 div.sk-parallel-item:last-child::after {align-self: flex-start;width: 50%;}#sk-container-id-1 div.sk-parallel-item:only-child::after {width: 0;}#sk-container-id-1 div.sk-dashed-wrapped {border: 1px dashed gray;margin: 0 0.4em 0.5em 0.4em;box-sizing: border-box;padding-bottom: 0.4em;background-color: white;}#sk-container-id-1 div.sk-label label {font-family: monospace;font-weight: bold;display: inline-block;line-height: 1.2em;}#sk-container-id-1 div.sk-label-container {text-align: center;}#sk-container-id-1 div.sk-container {/* jupyter's `normalize.less` sets `[hidden] { display: none; }` but bootstrap.min.css set `[hidden] { display: none !important; }` so we also need the `!important` here to be able to override the default hidden behavior on the sphinx rendered scikit-learn.org. See: https://github.com/scikit-learn/scikit-learn/issues/21755 */display: inline-block !important;position: relative;}#sk-container-id-1 div.sk-text-repr-fallback {display: none;}</style><div id=\"sk-container-id-1\" class=\"sk-top-container\"><div class=\"sk-text-repr-fallback\"><pre>SVC()</pre><b>In a Jupyter environment, please rerun this cell to show the HTML representation or trust the notebook. <br />On GitHub, the HTML representation is unable to render, please try loading this page with nbviewer.org.</b></div><div class=\"sk-container\" hidden><div class=\"sk-item\"><div class=\"sk-estimator sk-toggleable\"><input class=\"sk-toggleable__control sk-hidden--visually\" id=\"sk-estimator-id-1\" type=\"checkbox\" checked><label for=\"sk-estimator-id-1\" class=\"sk-toggleable__label sk-toggleable__label-arrow\">SVC</label><div class=\"sk-toggleable__content\"><pre>SVC()</pre></div></div></div></div></div>"
      ],
      "text/plain": [
       "SVC()"
      ]
     },
     "execution_count": 8,
     "metadata": {},
     "output_type": "execute_result"
    }
   ],
   "source": [
    "from sklearn.svm import SVC\n",
    "support_vector =SVC()\n",
    "support_vector.fit(X_train ,y_train)"
   ]
  },
  {
   "cell_type": "code",
   "execution_count": 9,
   "id": "ec3dc8e3-fca4-469a-8e21-8857024fc31d",
   "metadata": {},
   "outputs": [],
   "source": [
    "y_pred =support_vector.predict(X_test)"
   ]
  },
  {
   "cell_type": "code",
   "execution_count": 10,
   "id": "b4e47bd1-21a7-4cfc-9e30-1b950bea09d3",
   "metadata": {},
   "outputs": [
    {
     "data": {
      "text/plain": [
       "array([0, 0, 0, 1, 1, 0, 0, 1, 0, 1, 0, 0, 1, 1, 1, 1, 1, 0, 1, 1, 0, 0,\n",
       "       1, 0, 1])"
      ]
     },
     "execution_count": 10,
     "metadata": {},
     "output_type": "execute_result"
    }
   ],
   "source": [
    "y_pred"
   ]
  },
  {
   "cell_type": "code",
   "execution_count": 11,
   "id": "f501b37a-e1cd-4c3c-a3d7-b7f63aa2fdc6",
   "metadata": {},
   "outputs": [
    {
     "name": "stdout",
     "output_type": "stream",
     "text": [
      "[[12  1]\n",
      " [ 0 12]]\n"
     ]
    }
   ],
   "source": [
    "from sklearn.metrics import accuracy_score,classification_report ,confusion_matrix\n",
    "print(confusion_matrix(y_test ,y_pred))"
   ]
  },
  {
   "cell_type": "code",
   "execution_count": 12,
   "id": "68ab6e04-7754-4747-b9fc-fda2255454b0",
   "metadata": {},
   "outputs": [
    {
     "name": "stdout",
     "output_type": "stream",
     "text": [
      "0.96\n"
     ]
    }
   ],
   "source": [
    "print(accuracy_score(y_test ,y_pred))"
   ]
  },
  {
   "cell_type": "code",
   "execution_count": 13,
   "id": "ecbb9d0b-7815-4c2b-a25d-2f261a640119",
   "metadata": {},
   "outputs": [
    {
     "name": "stdout",
     "output_type": "stream",
     "text": [
      "              precision    recall  f1-score   support\n",
      "\n",
      "           0       1.00      0.92      0.96        13\n",
      "           1       0.92      1.00      0.96        12\n",
      "\n",
      "    accuracy                           0.96        25\n",
      "   macro avg       0.96      0.96      0.96        25\n",
      "weighted avg       0.96      0.96      0.96        25\n",
      "\n"
     ]
    }
   ],
   "source": [
    "print(classification_report(y_test ,y_pred))"
   ]
  },
  {
   "cell_type": "code",
   "execution_count": 14,
   "id": "23487bb3-7d4e-4c7b-a423-c7ae4a9c6bcc",
   "metadata": {},
   "outputs": [],
   "source": [
    "from sklearn.model_selection import GridSearchCV\n",
    "parameter = {\"C\":[1,2,3,4,5,6,7,8,9,10],\n",
    "            \"kernel\":('linear','rbf','sigmoid'),\n",
    "            \"gamma\":['scale','auto']}\n",
    "classifier =SVC()"
   ]
  },
  {
   "cell_type": "code",
   "execution_count": 15,
   "id": "a8a85d20-b01a-49f6-bac2-c3c5de423ffc",
   "metadata": {},
   "outputs": [
    {
     "data": {
      "text/html": [
       "<style>#sk-container-id-2 {color: black;background-color: white;}#sk-container-id-2 pre{padding: 0;}#sk-container-id-2 div.sk-toggleable {background-color: white;}#sk-container-id-2 label.sk-toggleable__label {cursor: pointer;display: block;width: 100%;margin-bottom: 0;padding: 0.3em;box-sizing: border-box;text-align: center;}#sk-container-id-2 label.sk-toggleable__label-arrow:before {content: \"▸\";float: left;margin-right: 0.25em;color: #696969;}#sk-container-id-2 label.sk-toggleable__label-arrow:hover:before {color: black;}#sk-container-id-2 div.sk-estimator:hover label.sk-toggleable__label-arrow:before {color: black;}#sk-container-id-2 div.sk-toggleable__content {max-height: 0;max-width: 0;overflow: hidden;text-align: left;background-color: #f0f8ff;}#sk-container-id-2 div.sk-toggleable__content pre {margin: 0.2em;color: black;border-radius: 0.25em;background-color: #f0f8ff;}#sk-container-id-2 input.sk-toggleable__control:checked~div.sk-toggleable__content {max-height: 200px;max-width: 100%;overflow: auto;}#sk-container-id-2 input.sk-toggleable__control:checked~label.sk-toggleable__label-arrow:before {content: \"▾\";}#sk-container-id-2 div.sk-estimator input.sk-toggleable__control:checked~label.sk-toggleable__label {background-color: #d4ebff;}#sk-container-id-2 div.sk-label input.sk-toggleable__control:checked~label.sk-toggleable__label {background-color: #d4ebff;}#sk-container-id-2 input.sk-hidden--visually {border: 0;clip: rect(1px 1px 1px 1px);clip: rect(1px, 1px, 1px, 1px);height: 1px;margin: -1px;overflow: hidden;padding: 0;position: absolute;width: 1px;}#sk-container-id-2 div.sk-estimator {font-family: monospace;background-color: #f0f8ff;border: 1px dotted black;border-radius: 0.25em;box-sizing: border-box;margin-bottom: 0.5em;}#sk-container-id-2 div.sk-estimator:hover {background-color: #d4ebff;}#sk-container-id-2 div.sk-parallel-item::after {content: \"\";width: 100%;border-bottom: 1px solid gray;flex-grow: 1;}#sk-container-id-2 div.sk-label:hover label.sk-toggleable__label {background-color: #d4ebff;}#sk-container-id-2 div.sk-serial::before {content: \"\";position: absolute;border-left: 1px solid gray;box-sizing: border-box;top: 0;bottom: 0;left: 50%;z-index: 0;}#sk-container-id-2 div.sk-serial {display: flex;flex-direction: column;align-items: center;background-color: white;padding-right: 0.2em;padding-left: 0.2em;position: relative;}#sk-container-id-2 div.sk-item {position: relative;z-index: 1;}#sk-container-id-2 div.sk-parallel {display: flex;align-items: stretch;justify-content: center;background-color: white;position: relative;}#sk-container-id-2 div.sk-item::before, #sk-container-id-2 div.sk-parallel-item::before {content: \"\";position: absolute;border-left: 1px solid gray;box-sizing: border-box;top: 0;bottom: 0;left: 50%;z-index: -1;}#sk-container-id-2 div.sk-parallel-item {display: flex;flex-direction: column;z-index: 1;position: relative;background-color: white;}#sk-container-id-2 div.sk-parallel-item:first-child::after {align-self: flex-end;width: 50%;}#sk-container-id-2 div.sk-parallel-item:last-child::after {align-self: flex-start;width: 50%;}#sk-container-id-2 div.sk-parallel-item:only-child::after {width: 0;}#sk-container-id-2 div.sk-dashed-wrapped {border: 1px dashed gray;margin: 0 0.4em 0.5em 0.4em;box-sizing: border-box;padding-bottom: 0.4em;background-color: white;}#sk-container-id-2 div.sk-label label {font-family: monospace;font-weight: bold;display: inline-block;line-height: 1.2em;}#sk-container-id-2 div.sk-label-container {text-align: center;}#sk-container-id-2 div.sk-container {/* jupyter's `normalize.less` sets `[hidden] { display: none; }` but bootstrap.min.css set `[hidden] { display: none !important; }` so we also need the `!important` here to be able to override the default hidden behavior on the sphinx rendered scikit-learn.org. See: https://github.com/scikit-learn/scikit-learn/issues/21755 */display: inline-block !important;position: relative;}#sk-container-id-2 div.sk-text-repr-fallback {display: none;}</style><div id=\"sk-container-id-2\" class=\"sk-top-container\"><div class=\"sk-text-repr-fallback\"><pre>GridSearchCV(cv=5, estimator=SVC(),\n",
       "             param_grid={&#x27;C&#x27;: [1, 2, 3, 4, 5, 6, 7, 8, 9, 10],\n",
       "                         &#x27;gamma&#x27;: [&#x27;scale&#x27;, &#x27;auto&#x27;],\n",
       "                         &#x27;kernel&#x27;: (&#x27;linear&#x27;, &#x27;rbf&#x27;, &#x27;sigmoid&#x27;)})</pre><b>In a Jupyter environment, please rerun this cell to show the HTML representation or trust the notebook. <br />On GitHub, the HTML representation is unable to render, please try loading this page with nbviewer.org.</b></div><div class=\"sk-container\" hidden><div class=\"sk-item sk-dashed-wrapped\"><div class=\"sk-label-container\"><div class=\"sk-label sk-toggleable\"><input class=\"sk-toggleable__control sk-hidden--visually\" id=\"sk-estimator-id-2\" type=\"checkbox\" ><label for=\"sk-estimator-id-2\" class=\"sk-toggleable__label sk-toggleable__label-arrow\">GridSearchCV</label><div class=\"sk-toggleable__content\"><pre>GridSearchCV(cv=5, estimator=SVC(),\n",
       "             param_grid={&#x27;C&#x27;: [1, 2, 3, 4, 5, 6, 7, 8, 9, 10],\n",
       "                         &#x27;gamma&#x27;: [&#x27;scale&#x27;, &#x27;auto&#x27;],\n",
       "                         &#x27;kernel&#x27;: (&#x27;linear&#x27;, &#x27;rbf&#x27;, &#x27;sigmoid&#x27;)})</pre></div></div></div><div class=\"sk-parallel\"><div class=\"sk-parallel-item\"><div class=\"sk-item\"><div class=\"sk-label-container\"><div class=\"sk-label sk-toggleable\"><input class=\"sk-toggleable__control sk-hidden--visually\" id=\"sk-estimator-id-3\" type=\"checkbox\" ><label for=\"sk-estimator-id-3\" class=\"sk-toggleable__label sk-toggleable__label-arrow\">estimator: SVC</label><div class=\"sk-toggleable__content\"><pre>SVC()</pre></div></div></div><div class=\"sk-serial\"><div class=\"sk-item\"><div class=\"sk-estimator sk-toggleable\"><input class=\"sk-toggleable__control sk-hidden--visually\" id=\"sk-estimator-id-4\" type=\"checkbox\" ><label for=\"sk-estimator-id-4\" class=\"sk-toggleable__label sk-toggleable__label-arrow\">SVC</label><div class=\"sk-toggleable__content\"><pre>SVC()</pre></div></div></div></div></div></div></div></div></div></div>"
      ],
      "text/plain": [
       "GridSearchCV(cv=5, estimator=SVC(),\n",
       "             param_grid={'C': [1, 2, 3, 4, 5, 6, 7, 8, 9, 10],\n",
       "                         'gamma': ['scale', 'auto'],\n",
       "                         'kernel': ('linear', 'rbf', 'sigmoid')})"
      ]
     },
     "execution_count": 15,
     "metadata": {},
     "output_type": "execute_result"
    }
   ],
   "source": [
    "clf =GridSearchCV(estimator=classifier,param_grid=parameter,cv=5)\n",
    "clf.fit(X_train, y_train) "
   ]
  },
  {
   "cell_type": "code",
   "execution_count": 16,
   "id": "acd8fa99-0079-4ab9-a701-0ec1f7733a4b",
   "metadata": {},
   "outputs": [
    {
     "data": {
      "text/plain": [
       "0.9600000000000002"
      ]
     },
     "execution_count": 16,
     "metadata": {},
     "output_type": "execute_result"
    }
   ],
   "source": [
    "clf.best_score_"
   ]
  },
  {
   "cell_type": "code",
   "execution_count": 17,
   "id": "189756a2-5b8c-4c34-8f06-9afac3f1145f",
   "metadata": {},
   "outputs": [
    {
     "data": {
      "text/plain": [
       "{'C': 1, 'gamma': 'auto', 'kernel': 'sigmoid'}"
      ]
     },
     "execution_count": 17,
     "metadata": {},
     "output_type": "execute_result"
    }
   ],
   "source": [
    "clf.best_params_"
   ]
  },
  {
   "cell_type": "code",
   "execution_count": 18,
   "id": "cac64592-4b45-49a5-95a3-ef7ad13914bd",
   "metadata": {},
   "outputs": [
    {
     "data": {
      "text/plain": [
       "5"
      ]
     },
     "execution_count": 18,
     "metadata": {},
     "output_type": "execute_result"
    }
   ],
   "source": [
    "clf.best_index_"
   ]
  },
  {
   "cell_type": "code",
   "execution_count": 19,
   "id": "86621743-4267-4f61-a2e9-8e35f8e7d888",
   "metadata": {},
   "outputs": [
    {
     "data": {
      "text/html": [
       "<style>#sk-container-id-3 {color: black;background-color: white;}#sk-container-id-3 pre{padding: 0;}#sk-container-id-3 div.sk-toggleable {background-color: white;}#sk-container-id-3 label.sk-toggleable__label {cursor: pointer;display: block;width: 100%;margin-bottom: 0;padding: 0.3em;box-sizing: border-box;text-align: center;}#sk-container-id-3 label.sk-toggleable__label-arrow:before {content: \"▸\";float: left;margin-right: 0.25em;color: #696969;}#sk-container-id-3 label.sk-toggleable__label-arrow:hover:before {color: black;}#sk-container-id-3 div.sk-estimator:hover label.sk-toggleable__label-arrow:before {color: black;}#sk-container-id-3 div.sk-toggleable__content {max-height: 0;max-width: 0;overflow: hidden;text-align: left;background-color: #f0f8ff;}#sk-container-id-3 div.sk-toggleable__content pre {margin: 0.2em;color: black;border-radius: 0.25em;background-color: #f0f8ff;}#sk-container-id-3 input.sk-toggleable__control:checked~div.sk-toggleable__content {max-height: 200px;max-width: 100%;overflow: auto;}#sk-container-id-3 input.sk-toggleable__control:checked~label.sk-toggleable__label-arrow:before {content: \"▾\";}#sk-container-id-3 div.sk-estimator input.sk-toggleable__control:checked~label.sk-toggleable__label {background-color: #d4ebff;}#sk-container-id-3 div.sk-label input.sk-toggleable__control:checked~label.sk-toggleable__label {background-color: #d4ebff;}#sk-container-id-3 input.sk-hidden--visually {border: 0;clip: rect(1px 1px 1px 1px);clip: rect(1px, 1px, 1px, 1px);height: 1px;margin: -1px;overflow: hidden;padding: 0;position: absolute;width: 1px;}#sk-container-id-3 div.sk-estimator {font-family: monospace;background-color: #f0f8ff;border: 1px dotted black;border-radius: 0.25em;box-sizing: border-box;margin-bottom: 0.5em;}#sk-container-id-3 div.sk-estimator:hover {background-color: #d4ebff;}#sk-container-id-3 div.sk-parallel-item::after {content: \"\";width: 100%;border-bottom: 1px solid gray;flex-grow: 1;}#sk-container-id-3 div.sk-label:hover label.sk-toggleable__label {background-color: #d4ebff;}#sk-container-id-3 div.sk-serial::before {content: \"\";position: absolute;border-left: 1px solid gray;box-sizing: border-box;top: 0;bottom: 0;left: 50%;z-index: 0;}#sk-container-id-3 div.sk-serial {display: flex;flex-direction: column;align-items: center;background-color: white;padding-right: 0.2em;padding-left: 0.2em;position: relative;}#sk-container-id-3 div.sk-item {position: relative;z-index: 1;}#sk-container-id-3 div.sk-parallel {display: flex;align-items: stretch;justify-content: center;background-color: white;position: relative;}#sk-container-id-3 div.sk-item::before, #sk-container-id-3 div.sk-parallel-item::before {content: \"\";position: absolute;border-left: 1px solid gray;box-sizing: border-box;top: 0;bottom: 0;left: 50%;z-index: -1;}#sk-container-id-3 div.sk-parallel-item {display: flex;flex-direction: column;z-index: 1;position: relative;background-color: white;}#sk-container-id-3 div.sk-parallel-item:first-child::after {align-self: flex-end;width: 50%;}#sk-container-id-3 div.sk-parallel-item:last-child::after {align-self: flex-start;width: 50%;}#sk-container-id-3 div.sk-parallel-item:only-child::after {width: 0;}#sk-container-id-3 div.sk-dashed-wrapped {border: 1px dashed gray;margin: 0 0.4em 0.5em 0.4em;box-sizing: border-box;padding-bottom: 0.4em;background-color: white;}#sk-container-id-3 div.sk-label label {font-family: monospace;font-weight: bold;display: inline-block;line-height: 1.2em;}#sk-container-id-3 div.sk-label-container {text-align: center;}#sk-container-id-3 div.sk-container {/* jupyter's `normalize.less` sets `[hidden] { display: none; }` but bootstrap.min.css set `[hidden] { display: none !important; }` so we also need the `!important` here to be able to override the default hidden behavior on the sphinx rendered scikit-learn.org. See: https://github.com/scikit-learn/scikit-learn/issues/21755 */display: inline-block !important;position: relative;}#sk-container-id-3 div.sk-text-repr-fallback {display: none;}</style><div id=\"sk-container-id-3\" class=\"sk-top-container\"><div class=\"sk-text-repr-fallback\"><pre>SVC(C=1, gamma=&#x27;auto&#x27;, kernel=&#x27;sigmoid&#x27;)</pre><b>In a Jupyter environment, please rerun this cell to show the HTML representation or trust the notebook. <br />On GitHub, the HTML representation is unable to render, please try loading this page with nbviewer.org.</b></div><div class=\"sk-container\" hidden><div class=\"sk-item\"><div class=\"sk-estimator sk-toggleable\"><input class=\"sk-toggleable__control sk-hidden--visually\" id=\"sk-estimator-id-5\" type=\"checkbox\" checked><label for=\"sk-estimator-id-5\" class=\"sk-toggleable__label sk-toggleable__label-arrow\">SVC</label><div class=\"sk-toggleable__content\"><pre>SVC(C=1, gamma=&#x27;auto&#x27;, kernel=&#x27;sigmoid&#x27;)</pre></div></div></div></div></div>"
      ],
      "text/plain": [
       "SVC(C=1, gamma='auto', kernel='sigmoid')"
      ]
     },
     "execution_count": 19,
     "metadata": {},
     "output_type": "execute_result"
    }
   ],
   "source": [
    "clf.best_estimator_"
   ]
  },
  {
   "cell_type": "code",
   "execution_count": null,
   "id": "96ae94a4-03fe-4a81-8163-0342ab08f27b",
   "metadata": {},
   "outputs": [],
   "source": []
  },
  {
   "cell_type": "code",
   "execution_count": null,
   "id": "5de0dd0d-92cf-4b8d-8885-c4d9740ddb7d",
   "metadata": {},
   "outputs": [],
   "source": []
  },
  {
   "cell_type": "code",
   "execution_count": null,
   "id": "0ed1b87b-f930-4499-a349-c148a5a74052",
   "metadata": {},
   "outputs": [],
   "source": []
  }
 ],
 "metadata": {
  "kernelspec": {
   "display_name": "Python 3 (ipykernel)",
   "language": "python",
   "name": "python3"
  },
  "language_info": {
   "codemirror_mode": {
    "name": "ipython",
    "version": 3
   },
   "file_extension": ".py",
   "mimetype": "text/x-python",
   "name": "python",
   "nbconvert_exporter": "python",
   "pygments_lexer": "ipython3",
   "version": "3.11.7"
  }
 },
 "nbformat": 4,
 "nbformat_minor": 5
}
